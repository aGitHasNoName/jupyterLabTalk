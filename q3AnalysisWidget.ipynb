{
 "cells": [
  {
   "cell_type": "markdown",
   "metadata": {},
   "source": [
    "# Q3 Analysis"
   ]
  },
  {
   "cell_type": "markdown",
   "metadata": {},
   "source": [
    "The goal is to identify the least active Senators since 2010. I will be measuring activity by three stats, all included in the cleaned DataFrame:\n",
    "1. number of bills cosponsored/time served in Senate since 2010\n",
    "2. number of bills sponsored/time served in Senate since 2010\n",
    "3. number of votes the Senator was present for/total number of votes the Senator was eligible for"
   ]
  },
  {
   "cell_type": "markdown",
   "metadata": {},
   "source": [
    "Before aggragating the three stats and listing the overall least active Senators, I will present the categories individually. For each category, I will present:\n",
    "- the bottom three Senators\n",
    "- the mean for all Senators\n",
    "- the mean for each party\n",
    "- the mean for each gender\n",
    "- the relationship between the statistic and time served in the Senate"
   ]
  },
  {
   "cell_type": "markdown",
   "metadata": {},
   "source": [
    "To determine the least active Senators since 2010, I will rank all Senators in each of the three categories, total up their rankings, and present the bottom three (I will also present the top three, just for fun). I will research the bottom three Senators and present any extraordinary circumstances that may be at play."
   ]
  },
  {
   "cell_type": "markdown",
   "metadata": {},
   "source": [
    "Finally, I will save all figures for use in a single graphic."
   ]
  },
  {
   "cell_type": "markdown",
   "metadata": {},
   "source": [
    "## Modules, Data, and Functions"
   ]
  },
  {
   "cell_type": "code",
   "execution_count": 67,
   "metadata": {},
   "outputs": [],
   "source": [
    "%matplotlib inline\n",
    "import pandas as pd\n",
    "import matplotlib.pyplot as plt\n",
    "import ipywidgets as widgets\n",
    "from IPython.display import display\n",
    "from ipywidgets import interact, interactive, fixed, interact_manual"
   ]
  },
  {
   "cell_type": "code",
   "execution_count": 68,
   "metadata": {},
   "outputs": [
    {
     "data": {
      "text/html": [
       "<div>\n",
       "<style scoped>\n",
       "    .dataframe tbody tr th:only-of-type {\n",
       "        vertical-align: middle;\n",
       "    }\n",
       "\n",
       "    .dataframe tbody tr th {\n",
       "        vertical-align: top;\n",
       "    }\n",
       "\n",
       "    .dataframe thead th {\n",
       "        text-align: right;\n",
       "    }\n",
       "</style>\n",
       "<table border=\"1\" class=\"dataframe\">\n",
       "  <thead>\n",
       "    <tr style=\"text-align: right;\">\n",
       "      <th></th>\n",
       "      <th>party</th>\n",
       "      <th>gender</th>\n",
       "      <th>first_name</th>\n",
       "      <th>last_name</th>\n",
       "      <th>vote_pct</th>\n",
       "      <th>term_length</th>\n",
       "      <th>sponsor_avg</th>\n",
       "      <th>cosponsor_avg</th>\n",
       "    </tr>\n",
       "    <tr>\n",
       "      <th>id</th>\n",
       "      <th></th>\n",
       "      <th></th>\n",
       "      <th></th>\n",
       "      <th></th>\n",
       "      <th></th>\n",
       "      <th></th>\n",
       "      <th></th>\n",
       "      <th></th>\n",
       "    </tr>\n",
       "  </thead>\n",
       "  <tbody>\n",
       "    <tr>\n",
       "      <th>A000069</th>\n",
       "      <td>D</td>\n",
       "      <td>M</td>\n",
       "      <td>Daniel</td>\n",
       "      <td>Akaka</td>\n",
       "      <td>0.989682</td>\n",
       "      <td>3.0</td>\n",
       "      <td>14.000000</td>\n",
       "      <td>104.666667</td>\n",
       "    </tr>\n",
       "    <tr>\n",
       "      <th>A000360</th>\n",
       "      <td>R</td>\n",
       "      <td>M</td>\n",
       "      <td>Lamar</td>\n",
       "      <td>Alexander</td>\n",
       "      <td>0.952560</td>\n",
       "      <td>10.5</td>\n",
       "      <td>10.857143</td>\n",
       "      <td>69.523810</td>\n",
       "    </tr>\n",
       "    <tr>\n",
       "      <th>A000368</th>\n",
       "      <td>R</td>\n",
       "      <td>F</td>\n",
       "      <td>Kelly</td>\n",
       "      <td>Ayotte</td>\n",
       "      <td>0.987234</td>\n",
       "      <td>6.0</td>\n",
       "      <td>12.500000</td>\n",
       "      <td>152.833333</td>\n",
       "    </tr>\n",
       "    <tr>\n",
       "      <th>B000243</th>\n",
       "      <td>D</td>\n",
       "      <td>M</td>\n",
       "      <td>Max</td>\n",
       "      <td>Baucus</td>\n",
       "      <td>0.992563</td>\n",
       "      <td>4.1</td>\n",
       "      <td>20.731707</td>\n",
       "      <td>64.146341</td>\n",
       "    </tr>\n",
       "    <tr>\n",
       "      <th>B000382</th>\n",
       "      <td>R</td>\n",
       "      <td>M</td>\n",
       "      <td>Robert</td>\n",
       "      <td>Bennett</td>\n",
       "      <td>0.914328</td>\n",
       "      <td>1.0</td>\n",
       "      <td>2.000000</td>\n",
       "      <td>62.000000</td>\n",
       "    </tr>\n",
       "  </tbody>\n",
       "</table>\n",
       "</div>"
      ],
      "text/plain": [
       "        party gender first_name  last_name  vote_pct  term_length  \\\n",
       "id                                                                  \n",
       "A000069     D      M     Daniel      Akaka  0.989682          3.0   \n",
       "A000360     R      M      Lamar  Alexander  0.952560         10.5   \n",
       "A000368     R      F      Kelly     Ayotte  0.987234          6.0   \n",
       "B000243     D      M        Max     Baucus  0.992563          4.1   \n",
       "B000382     R      M     Robert    Bennett  0.914328          1.0   \n",
       "\n",
       "         sponsor_avg  cosponsor_avg  \n",
       "id                                   \n",
       "A000069    14.000000     104.666667  \n",
       "A000360    10.857143      69.523810  \n",
       "A000368    12.500000     152.833333  \n",
       "B000243    20.731707      64.146341  \n",
       "B000382     2.000000      62.000000  "
      ]
     },
     "execution_count": 68,
     "metadata": {},
     "output_type": "execute_result"
    }
   ],
   "source": [
    "df = pd.read_csv(\"q3CleanedData.csv\")\n",
    "df = df.set_index(\"id\")\n",
    "df.head()"
   ]
  },
  {
   "cell_type": "code",
   "execution_count": 88,
   "metadata": {},
   "outputs": [],
   "source": [
    "def makeBarChart(num):\n",
    "    \"\"\"Function to make bar graph with means of party, gender, and total, plus actual values\n",
    "    for lowest values for column provided. Number of lowest values is also provided.\"\"\"\n",
    "    fig, ax = plt.subplots(figsize=(4,6))\n",
    "    means = [df.groupby(\"party\")[\"vote_pct\"].mean()[\"D\"], df.groupby(\"party\")[\"vote_pct\"].mean()[\"R\"], \n",
    "             df.groupby(\"gender\")[\"vote_pct\"].mean()[\"M\"], df.groupby(\"gender\")[\"vote_pct\"].mean()[\"F\"],\n",
    "             df[\"vote_pct\"].mean()]\n",
    "    labels = [\"Democrat\", \"Republican\", \"Male\", \"Female\", \"All Senators\"]\n",
    "    colors = [\"cornflowerblue\", \"tomato\", \"mediumpurple\", \"mediumpurple\", \"mediumpurple\"]\n",
    "    lowestdf = df.nsmallest(num, \"vote_pct\")\n",
    "    lowest_list = list(lowestdf.index)\n",
    "    for senator in lowest_list:\n",
    "        means.append(lowestdf.loc[senator][\"vote_pct\"])\n",
    "        if lowestdf.loc[senator].party == \"R\":\n",
    "            colors.append(\"tomato\")\n",
    "        else:\n",
    "            colors.append(\"cornflowerblue\")\n",
    "        labels.append(lowestdf.loc[senator].first_name + \" \" +lowestdf.loc[senator].last_name)\n",
    "    ax.barh(labels, means, label=labels, color=colors)\n",
    "    ax.invert_yaxis()\n",
    "    ax.set_title(\"Percentage of votes attended since 2010 among all senators\")\n",
    "    plt.show()"
   ]
  },
  {
   "cell_type": "code",
   "execution_count": 70,
   "metadata": {},
   "outputs": [],
   "source": []
  },
  {
   "cell_type": "code",
   "execution_count": 93,
   "metadata": {},
   "outputs": [],
   "source": [
    "def makeBarChartYear(num):\n",
    "    \"\"\"Function to make bar graph with means of party, gender, and total, plus actual values\n",
    "    for lowest values for column provided. Number of lowest values is also user provided.\"\"\"\n",
    "    fig, ax = plt.subplots(figsize=(4,6))\n",
    "    means = [df.groupby(\"party\")[\"vote_pct\"].mean()[\"D\"], df.groupby(\"party\")[\"vote_pct\"].mean()[\"R\"], \n",
    "             df.groupby(\"gender\")[\"vote_pct\"].mean()[\"M\"], df.groupby(\"gender\")[\"vote_pct\"].mean()[\"F\"],\n",
    "             df[\"vote_pct\"].mean()]\n",
    "    labels = [\"Democrat\", \"Republican\", \"Male\", \"Female\", \"All Senators\"]\n",
    "    colors = [\"cornflowerblue\", \"tomato\", \"mediumpurple\", \"mediumpurple\", \"mediumpurple\"]\n",
    "    \n",
    "    lowyeardf = df[df.term_length > 1].nsmallest(num, \"vote_pct\")\n",
    "    lowyear_list = list(lowyeardf.index)\n",
    "    for senator in lowyear_list:\n",
    "        means.append(lowyeardf.loc[senator][\"vote_pct\"])\n",
    "        if lowyeardf.loc[senator].party == \"R\":\n",
    "            colors.append(\"tomato\")\n",
    "        else:\n",
    "            colors.append(\"cornflowerblue\")\n",
    "        labels.append(lowyeardf.loc[senator].first_name + \" \" +lowyeardf.loc[senator].last_name)\n",
    "    ax.barh(labels, means, label=labels, color=colors)\n",
    "    ax.invert_yaxis()\n",
    "    ax.set_title(\"Percentage of votes attended since 2010 among senators with over 1 year of service\")\n",
    "    plt.show()\n",
    "\n"
   ]
  },
  {
   "cell_type": "markdown",
   "metadata": {},
   "source": [
    "## <br>Vote percentage"
   ]
  },
  {
   "cell_type": "code",
   "execution_count": 97,
   "metadata": {},
   "outputs": [
    {
     "data": {
      "application/vnd.jupyter.widget-view+json": {
       "model_id": "7fe858aa857b4e988b839c1bcb9d344a",
       "version_major": 2,
       "version_minor": 0
      },
      "text/plain": [
       "interactive(children=(IntSlider(value=3, continuous_update=False, description='Show lowest senators:', max=10)…"
      ]
     },
     "metadata": {},
     "output_type": "display_data"
    }
   ],
   "source": [
    "interactive_plot = interactive(makeBarChart, \n",
    "                               num=widgets.IntSlider(value=3,\n",
    "                                                     min=0,\n",
    "                                                     max=10,\n",
    "                                                     step=1,\n",
    "                                                     description=\"Show lowest senators:\",\n",
    "                                                     continuous_update=False))\n",
    "interactive_plot"
   ]
  },
  {
   "cell_type": "code",
   "execution_count": 98,
   "metadata": {},
   "outputs": [
    {
     "data": {
      "application/vnd.jupyter.widget-view+json": {
       "model_id": "d760ae23ac3c415fae5a92b590e3f9cb",
       "version_major": 2,
       "version_minor": 0
      },
      "text/plain": [
       "interactive(children=(IntSlider(value=3, continuous_update=False, description='Show lowest senators:', max=10)…"
      ]
     },
     "metadata": {},
     "output_type": "display_data"
    }
   ],
   "source": [
    "interactive_plot_year = interactive(makeBarChartYear, \n",
    "                               num=widgets.IntSlider(value=3,\n",
    "                                                     min=0,\n",
    "                                                     max=10,\n",
    "                                                     step=1,\n",
    "                                                     description=\"Show lowest senators:\",\n",
    "                                                     continuous_update=False))\n",
    "interactive_plot_year"
   ]
  },
  {
   "cell_type": "code",
   "execution_count": 100,
   "metadata": {},
   "outputs": [
    {
     "data": {
      "application/vnd.jupyter.widget-view+json": {
       "model_id": "7355852606d44eaf9bb82154f3aee142",
       "version_major": 2,
       "version_minor": 0
      },
      "text/plain": [
       "Accordion(children=(interactive(children=(IntSlider(value=3, continuous_update=False, description='Show lowest…"
      ]
     },
     "metadata": {},
     "output_type": "display_data"
    }
   ],
   "source": [
    "accordion = widgets.Accordion(children=[interactive_plot, interactive_plot_year])\n",
    "accordion.set_title(0, 'Senators with lowest voting percentage')\n",
    "accordion.set_title(1, 'Senators with lowest voting percentage (over 1 year of service)')\n",
    "accordion"
   ]
  },
  {
   "cell_type": "code",
   "execution_count": null,
   "metadata": {},
   "outputs": [],
   "source": []
  },
  {
   "cell_type": "code",
   "execution_count": 70,
   "metadata": {},
   "outputs": [
    {
     "data": {
      "image/png": "[encoded data removed]",
      "text/plain": [
       "<Figure size 432x288 with 1 Axes>"
      ]
     },
     "metadata": {
      "needs_background": "light"
     },
     "output_type": "display_data"
    }
   ],
   "source": [
    "vote_scatter = makeScatterPlot(df, \"vote_pct\", \"term_length\", \"Percent of votes attended by length of term since 2010\")\n",
    "fig = vote_scatter.get_figure()\n",
    "fig.savefig(\"voteScatter.png\")"
   ]
  },
  {
   "cell_type": "markdown",
   "metadata": {},
   "source": [
    "__From outside research, I know that Robert Byrd, the senator with the lowest vote percentage and the outlier dot on the bottom left of the scatter plot, passed away six months into 2010, and it is likely that this illness contributed to his low vote percentage. Additionally, the third lowest senator by vote percentage,  Jeffrey Chiesa, was a temporary appointment who served for only five months during 2013.__<br><br>__I think it is important for voters to see how illness and temporary appointments could potentially affect vote percentage, so I will not remove these senators. However, as others may disagree, I will also show the lowest 3 senators with at least one year in office.__"
   ]
  },
  {
   "cell_type": "code",
   "execution_count": 71,
   "metadata": {},
   "outputs": [
    {
     "data": {
      "image/png": "[encoded data removed]",
      "text/plain": [
       "<Figure size 288x720 with 1 Axes>"
      ]
     },
     "metadata": {
      "needs_background": "light"
     },
     "output_type": "display_data"
    }
   ],
   "source": [
    "vote_bar_year = makeBarChartYear(df, \"vote_pct\", 3, \"Percent of votes attended since 2010\")\n",
    "vote_bar_year.savefig(\"voteBar.png\", bbox_inches=\"tight\")"
   ]
  },
  {
   "cell_type": "markdown",
   "metadata": {},
   "source": [
    "#### Note: I am not concerned with the look of text for these plots, as it will be edited for the final figure."
   ]
  },
  {
   "cell_type": "markdown",
   "metadata": {},
   "source": [
    "## <br>Bill Sponsorship"
   ]
  },
  {
   "cell_type": "code",
   "execution_count": 72,
   "metadata": {},
   "outputs": [
    {
     "data": {
      "image/png": "[encoded data removed]",
      "text/plain": [
       "<Figure size 288x504 with 1 Axes>"
      ]
     },
     "metadata": {
      "needs_background": "light"
     },
     "output_type": "display_data"
    }
   ],
   "source": [
    "sponsor_bar = makeBarChart(df, \"sponsor_avg\", 3, \"Annual average number of bills sponsored since 2010\")"
   ]
  },
  {
   "cell_type": "code",
   "execution_count": 73,
   "metadata": {},
   "outputs": [
    {
     "data": {
      "image/png": "[encoded data removed]",
      "text/plain": [
       "<Figure size 432x288 with 1 Axes>"
      ]
     },
     "metadata": {
      "needs_background": "light"
     },
     "output_type": "display_data"
    }
   ],
   "source": [
    "sponsor_scatter = makeScatterPlot(df, \"sponsor_avg\", \"term_length\", \"Annual average number of bills sponsored by length of term since 2010\")\n",
    "fig = sponsor_scatter.get_figure()\n",
    "fig.savefig(\"sponsorScatter.png\")"
   ]
  },
  {
   "cell_type": "markdown",
   "metadata": {},
   "source": [
    "Again, all three lowest bill sponosors were serving temporary appointments. I will expand the bar graph."
   ]
  },
  {
   "cell_type": "code",
   "execution_count": 74,
   "metadata": {},
   "outputs": [
    {
     "data": {
      "image/png": "[encoded data removed]",
      "text/plain": [
       "<Figure size 288x720 with 1 Axes>"
      ]
     },
     "metadata": {
      "needs_background": "light"
     },
     "output_type": "display_data"
    }
   ],
   "source": [
    "sponsor_bar_year = makeBarChartYear(df, \"sponsor_avg\", 3, \"Annual average number of bills sponsored since 2010\")\n",
    "sponsor_bar_year.savefig(\"sponsorBar.png\", bbox_inches=\"tight\")"
   ]
  },
  {
   "cell_type": "markdown",
   "metadata": {},
   "source": [
    "## Bill Cosponsorship"
   ]
  },
  {
   "cell_type": "code",
   "execution_count": 75,
   "metadata": {},
   "outputs": [
    {
     "data": {
      "image/png": "[encoded data removed]",
      "text/plain": [
       "<Figure size 288x504 with 1 Axes>"
      ]
     },
     "metadata": {
      "needs_background": "light"
     },
     "output_type": "display_data"
    }
   ],
   "source": [
    "cosponsor_bar = makeBarChart(df, \"cosponsor_avg\", 3, \"Annual average number of bills cosponsored since 2010\")"
   ]
  },
  {
   "cell_type": "code",
   "execution_count": 76,
   "metadata": {},
   "outputs": [
    {
     "data": {
      "image/png": "[encoded data removed]",
      "text/plain": [
       "<Figure size 432x288 with 1 Axes>"
      ]
     },
     "metadata": {
      "needs_background": "light"
     },
     "output_type": "display_data"
    }
   ],
   "source": [
    "cosponsor_scatter = makeScatterPlot(df, \"cosponsor_avg\", \"term_length\", \"Annual average number of bills cosponsored by length of term since 2010\")\n",
    "fig = cosponsor_scatter.get_figure()\n",
    "fig.savefig(\"cosponsorScatter.png\")"
   ]
  },
  {
   "cell_type": "code",
   "execution_count": 77,
   "metadata": {},
   "outputs": [
    {
     "data": {
      "image/png": "[encoded data removed]",
      "text/plain": [
       "<Figure size 288x720 with 1 Axes>"
      ]
     },
     "metadata": {
      "needs_background": "light"
     },
     "output_type": "display_data"
    }
   ],
   "source": [
    "cosponsor_bar_year = makeBarChartYear(df, \"cosponsor_avg\", 3, \"Annual average number of bills cosponsored since 2010\")\n",
    "cosponsor_bar_year.savefig(\"cosponsorBar.png\", bbox_inches=\"tight\")"
   ]
  },
  {
   "cell_type": "markdown",
   "metadata": {},
   "source": [
    "## <br>Total Activity Scores"
   ]
  },
  {
   "cell_type": "markdown",
   "metadata": {},
   "source": [
    "#### Adding columns with each senator's rank in each of the three activities, plus the sum of the three ranks, and the final rank in the total sum category:"
   ]
  },
  {
   "cell_type": "code",
   "execution_count": 78,
   "metadata": {},
   "outputs": [],
   "source": [
    "df[\"vote_rank\"] = df[\"vote_pct\"].rank()\n",
    "df[\"sponsor_rank\"] = df[\"sponsor_avg\"].rank()\n",
    "df[\"cosponsor_rank\"] = df[\"cosponsor_avg\"].rank()\n",
    "df[\"sum_rank\"] = df[\"vote_rank\"] + df[\"sponsor_rank\"] + df[\"cosponsor_rank\"]\n",
    "df[\"final_rank\"] = df[\"sum_rank\"].rank()"
   ]
  },
  {
   "cell_type": "markdown",
   "metadata": {},
   "source": [
    "#### Changing the index to the senator's full name:"
   ]
  },
  {
   "cell_type": "code",
   "execution_count": 79,
   "metadata": {},
   "outputs": [],
   "source": [
    "df[\"full_name\"] = df[\"first_name\"] + \" \" + df[\"last_name\"]\n",
    "df = df.set_index(\"full_name\")"
   ]
  },
  {
   "cell_type": "markdown",
   "metadata": {},
   "source": [
    "#### Making a new DataFrame without the raw vote percentage or raw sponsorship counts; renaming column headers for readability:"
   ]
  },
  {
   "cell_type": "code",
   "execution_count": 80,
   "metadata": {},
   "outputs": [
    {
     "data": {
      "text/html": [
       "<div>\n",
       "<style scoped>\n",
       "    .dataframe tbody tr th:only-of-type {\n",
       "        vertical-align: middle;\n",
       "    }\n",
       "\n",
       "    .dataframe tbody tr th {\n",
       "        vertical-align: top;\n",
       "    }\n",
       "\n",
       "    .dataframe thead th {\n",
       "        text-align: right;\n",
       "    }\n",
       "</style>\n",
       "<table border=\"1\" class=\"dataframe\">\n",
       "  <thead>\n",
       "    <tr style=\"text-align: right;\">\n",
       "      <th></th>\n",
       "      <th>party</th>\n",
       "      <th>gender</th>\n",
       "      <th>years in office</th>\n",
       "      <th>vote rank</th>\n",
       "      <th>sponsor rank</th>\n",
       "      <th>cosponsor rank</th>\n",
       "      <th>final rank</th>\n",
       "    </tr>\n",
       "    <tr>\n",
       "      <th>Senator</th>\n",
       "      <th></th>\n",
       "      <th></th>\n",
       "      <th></th>\n",
       "      <th></th>\n",
       "      <th></th>\n",
       "      <th></th>\n",
       "      <th></th>\n",
       "    </tr>\n",
       "  </thead>\n",
       "  <tbody>\n",
       "    <tr>\n",
       "      <th>Daniel Akaka</th>\n",
       "      <td>D</td>\n",
       "      <td>M</td>\n",
       "      <td>3.0</td>\n",
       "      <td>127.5</td>\n",
       "      <td>96.5</td>\n",
       "      <td>78.0</td>\n",
       "      <td>111.5</td>\n",
       "    </tr>\n",
       "    <tr>\n",
       "      <th>Lamar Alexander</th>\n",
       "      <td>R</td>\n",
       "      <td>M</td>\n",
       "      <td>10.5</td>\n",
       "      <td>33.0</td>\n",
       "      <td>60.0</td>\n",
       "      <td>37.0</td>\n",
       "      <td>18.5</td>\n",
       "    </tr>\n",
       "    <tr>\n",
       "      <th>Kelly Ayotte</th>\n",
       "      <td>R</td>\n",
       "      <td>F</td>\n",
       "      <td>6.0</td>\n",
       "      <td>114.0</td>\n",
       "      <td>82.0</td>\n",
       "      <td>126.0</td>\n",
       "      <td>123.5</td>\n",
       "    </tr>\n",
       "    <tr>\n",
       "      <th>Max Baucus</th>\n",
       "      <td>D</td>\n",
       "      <td>M</td>\n",
       "      <td>4.1</td>\n",
       "      <td>141.0</td>\n",
       "      <td>135.0</td>\n",
       "      <td>34.0</td>\n",
       "      <td>118.0</td>\n",
       "    </tr>\n",
       "    <tr>\n",
       "      <th>Robert Bennett</th>\n",
       "      <td>R</td>\n",
       "      <td>M</td>\n",
       "      <td>1.0</td>\n",
       "      <td>17.0</td>\n",
       "      <td>6.5</td>\n",
       "      <td>30.5</td>\n",
       "      <td>6.0</td>\n",
       "    </tr>\n",
       "  </tbody>\n",
       "</table>\n",
       "</div>"
      ],
      "text/plain": [
       "                party gender  years in office  vote rank  sponsor rank  \\\n",
       "Senator                                                                  \n",
       "Daniel Akaka        D      M              3.0      127.5          96.5   \n",
       "Lamar Alexander     R      M             10.5       33.0          60.0   \n",
       "Kelly Ayotte        R      F              6.0      114.0          82.0   \n",
       "Max Baucus          D      M              4.1      141.0         135.0   \n",
       "Robert Bennett      R      M              1.0       17.0           6.5   \n",
       "\n",
       "                 cosponsor rank  final rank  \n",
       "Senator                                      \n",
       "Daniel Akaka               78.0       111.5  \n",
       "Lamar Alexander            37.0        18.5  \n",
       "Kelly Ayotte              126.0       123.5  \n",
       "Max Baucus                 34.0       118.0  \n",
       "Robert Bennett             30.5         6.0  "
      ]
     },
     "execution_count": 80,
     "metadata": {},
     "output_type": "execute_result"
    }
   ],
   "source": [
    "columns_to_drop = [\"first_name\", \"last_name\", \"vote_pct\", \"sponsor_avg\", \"cosponsor_avg\", \"sum_rank\"]\n",
    "df_small = df.drop(columns_to_drop, axis=1)\n",
    "df_small.columns = [\"party\", \"gender\", \"years in office\", \"vote rank\", \"sponsor rank\", \"cosponsor rank\", \"final rank\"]\n",
    "df_small.index.names = [\"Senator\"]\n",
    "df_small.head()"
   ]
  },
  {
   "cell_type": "markdown",
   "metadata": {},
   "source": [
    "#### The least active senators (I chose 15 to view, but you can experiment with the number):"
   ]
  },
  {
   "cell_type": "code",
   "execution_count": 81,
   "metadata": {},
   "outputs": [
    {
     "data": {
      "text/html": [
       "<div>\n",
       "<style scoped>\n",
       "    .dataframe tbody tr th:only-of-type {\n",
       "        vertical-align: middle;\n",
       "    }\n",
       "\n",
       "    .dataframe tbody tr th {\n",
       "        vertical-align: top;\n",
       "    }\n",
       "\n",
       "    .dataframe thead th {\n",
       "        text-align: right;\n",
       "    }\n",
       "</style>\n",
       "<table border=\"1\" class=\"dataframe\">\n",
       "  <thead>\n",
       "    <tr style=\"text-align: right;\">\n",
       "      <th></th>\n",
       "      <th>party</th>\n",
       "      <th>gender</th>\n",
       "      <th>years in office</th>\n",
       "      <th>vote rank</th>\n",
       "      <th>sponsor rank</th>\n",
       "      <th>cosponsor rank</th>\n",
       "      <th>final rank</th>\n",
       "    </tr>\n",
       "    <tr>\n",
       "      <th>Senator</th>\n",
       "      <th></th>\n",
       "      <th></th>\n",
       "      <th></th>\n",
       "      <th></th>\n",
       "      <th></th>\n",
       "      <th></th>\n",
       "      <th></th>\n",
       "    </tr>\n",
       "  </thead>\n",
       "  <tbody>\n",
       "    <tr>\n",
       "      <th>Robert Byrd</th>\n",
       "      <td>D</td>\n",
       "      <td>M</td>\n",
       "      <td>0.5</td>\n",
       "      <td>1.0</td>\n",
       "      <td>6.5</td>\n",
       "      <td>1.0</td>\n",
       "      <td>1.0</td>\n",
       "    </tr>\n",
       "    <tr>\n",
       "      <th>Jeffrey Chiesa</th>\n",
       "      <td>R</td>\n",
       "      <td>M</td>\n",
       "      <td>0.4</td>\n",
       "      <td>3.0</td>\n",
       "      <td>2.0</td>\n",
       "      <td>7.5</td>\n",
       "      <td>2.0</td>\n",
       "    </tr>\n",
       "    <tr>\n",
       "      <th>Judd Gregg</th>\n",
       "      <td>R</td>\n",
       "      <td>M</td>\n",
       "      <td>1.0</td>\n",
       "      <td>12.0</td>\n",
       "      <td>12.5</td>\n",
       "      <td>7.5</td>\n",
       "      <td>3.0</td>\n",
       "    </tr>\n",
       "    <tr>\n",
       "      <th>Jim Bunning</th>\n",
       "      <td>R</td>\n",
       "      <td>M</td>\n",
       "      <td>1.0</td>\n",
       "      <td>24.0</td>\n",
       "      <td>4.0</td>\n",
       "      <td>5.0</td>\n",
       "      <td>4.0</td>\n",
       "    </tr>\n",
       "    <tr>\n",
       "      <th>Christopher Bond</th>\n",
       "      <td>R</td>\n",
       "      <td>M</td>\n",
       "      <td>1.0</td>\n",
       "      <td>19.0</td>\n",
       "      <td>12.5</td>\n",
       "      <td>16.5</td>\n",
       "      <td>5.0</td>\n",
       "    </tr>\n",
       "    <tr>\n",
       "      <th>Robert Bennett</th>\n",
       "      <td>R</td>\n",
       "      <td>M</td>\n",
       "      <td>1.0</td>\n",
       "      <td>17.0</td>\n",
       "      <td>6.5</td>\n",
       "      <td>30.5</td>\n",
       "      <td>6.0</td>\n",
       "    </tr>\n",
       "    <tr>\n",
       "      <th>George Voinovich</th>\n",
       "      <td>R</td>\n",
       "      <td>M</td>\n",
       "      <td>1.0</td>\n",
       "      <td>34.5</td>\n",
       "      <td>19.5</td>\n",
       "      <td>15.0</td>\n",
       "      <td>7.0</td>\n",
       "    </tr>\n",
       "    <tr>\n",
       "      <th>Evan Bayh</th>\n",
       "      <td>D</td>\n",
       "      <td>M</td>\n",
       "      <td>1.0</td>\n",
       "      <td>60.0</td>\n",
       "      <td>22.0</td>\n",
       "      <td>2.0</td>\n",
       "      <td>8.5</td>\n",
       "    </tr>\n",
       "    <tr>\n",
       "      <th>Jeff Sessions</th>\n",
       "      <td>R</td>\n",
       "      <td>M</td>\n",
       "      <td>9.0</td>\n",
       "      <td>40.0</td>\n",
       "      <td>15.0</td>\n",
       "      <td>29.0</td>\n",
       "      <td>8.5</td>\n",
       "    </tr>\n",
       "    <tr>\n",
       "      <th>Sam Brownback</th>\n",
       "      <td>R</td>\n",
       "      <td>M</td>\n",
       "      <td>1.0</td>\n",
       "      <td>36.0</td>\n",
       "      <td>42.0</td>\n",
       "      <td>19.5</td>\n",
       "      <td>10.0</td>\n",
       "    </tr>\n",
       "    <tr>\n",
       "      <th>Lindsey Graham</th>\n",
       "      <td>R</td>\n",
       "      <td>M</td>\n",
       "      <td>10.5</td>\n",
       "      <td>18.0</td>\n",
       "      <td>46.0</td>\n",
       "      <td>45.0</td>\n",
       "      <td>11.0</td>\n",
       "    </tr>\n",
       "    <tr>\n",
       "      <th>Bob Corker</th>\n",
       "      <td>R</td>\n",
       "      <td>M</td>\n",
       "      <td>9.0</td>\n",
       "      <td>78.0</td>\n",
       "      <td>26.0</td>\n",
       "      <td>13.0</td>\n",
       "      <td>12.5</td>\n",
       "    </tr>\n",
       "    <tr>\n",
       "      <th>George LeMieux</th>\n",
       "      <td>R</td>\n",
       "      <td>M</td>\n",
       "      <td>1.0</td>\n",
       "      <td>85.0</td>\n",
       "      <td>12.5</td>\n",
       "      <td>19.5</td>\n",
       "      <td>12.5</td>\n",
       "    </tr>\n",
       "    <tr>\n",
       "      <th>Jim DeMint</th>\n",
       "      <td>R</td>\n",
       "      <td>M</td>\n",
       "      <td>3.0</td>\n",
       "      <td>25.0</td>\n",
       "      <td>76.0</td>\n",
       "      <td>16.5</td>\n",
       "      <td>14.0</td>\n",
       "    </tr>\n",
       "    <tr>\n",
       "      <th>Luther Strange</th>\n",
       "      <td>R</td>\n",
       "      <td>M</td>\n",
       "      <td>1.0</td>\n",
       "      <td>57.0</td>\n",
       "      <td>12.5</td>\n",
       "      <td>53.0</td>\n",
       "      <td>15.0</td>\n",
       "    </tr>\n",
       "  </tbody>\n",
       "</table>\n",
       "</div>"
      ],
      "text/plain": [
       "                 party gender  years in office  vote rank  sponsor rank  \\\n",
       "Senator                                                                   \n",
       "Robert Byrd          D      M              0.5        1.0           6.5   \n",
       "Jeffrey Chiesa       R      M              0.4        3.0           2.0   \n",
       "Judd Gregg           R      M              1.0       12.0          12.5   \n",
       "Jim Bunning          R      M              1.0       24.0           4.0   \n",
       "Christopher Bond     R      M              1.0       19.0          12.5   \n",
       "Robert Bennett       R      M              1.0       17.0           6.5   \n",
       "George Voinovich     R      M              1.0       34.5          19.5   \n",
       "Evan Bayh            D      M              1.0       60.0          22.0   \n",
       "Jeff Sessions        R      M              9.0       40.0          15.0   \n",
       "Sam Brownback        R      M              1.0       36.0          42.0   \n",
       "Lindsey Graham       R      M             10.5       18.0          46.0   \n",
       "Bob Corker           R      M              9.0       78.0          26.0   \n",
       "George LeMieux       R      M              1.0       85.0          12.5   \n",
       "Jim DeMint           R      M              3.0       25.0          76.0   \n",
       "Luther Strange       R      M              1.0       57.0          12.5   \n",
       "\n",
       "                  cosponsor rank  final rank  \n",
       "Senator                                       \n",
       "Robert Byrd                  1.0         1.0  \n",
       "Jeffrey Chiesa               7.5         2.0  \n",
       "Judd Gregg                   7.5         3.0  \n",
       "Jim Bunning                  5.0         4.0  \n",
       "Christopher Bond            16.5         5.0  \n",
       "Robert Bennett              30.5         6.0  \n",
       "George Voinovich            15.0         7.0  \n",
       "Evan Bayh                    2.0         8.5  \n",
       "Jeff Sessions               29.0         8.5  \n",
       "Sam Brownback               19.5        10.0  \n",
       "Lindsey Graham              45.0        11.0  \n",
       "Bob Corker                  13.0        12.5  \n",
       "George LeMieux              19.5        12.5  \n",
       "Jim DeMint                  16.5        14.0  \n",
       "Luther Strange              53.0        15.0  "
      ]
     },
     "execution_count": 81,
     "metadata": {},
     "output_type": "execute_result"
    }
   ],
   "source": [
    "df_least_active = df_small.nsmallest(15, \"final rank\")\n",
    "df_least_active"
   ]
  },
  {
   "cell_type": "markdown",
   "metadata": {},
   "source": [
    "#### The most active senators since 2010:"
   ]
  },
  {
   "cell_type": "code",
   "execution_count": 82,
   "metadata": {},
   "outputs": [
    {
     "data": {
      "text/html": [
       "<div>\n",
       "<style scoped>\n",
       "    .dataframe tbody tr th:only-of-type {\n",
       "        vertical-align: middle;\n",
       "    }\n",
       "\n",
       "    .dataframe tbody tr th {\n",
       "        vertical-align: top;\n",
       "    }\n",
       "\n",
       "    .dataframe thead th {\n",
       "        text-align: right;\n",
       "    }\n",
       "</style>\n",
       "<table border=\"1\" class=\"dataframe\">\n",
       "  <thead>\n",
       "    <tr style=\"text-align: right;\">\n",
       "      <th></th>\n",
       "      <th>party</th>\n",
       "      <th>gender</th>\n",
       "      <th>years in office</th>\n",
       "      <th>vote rank</th>\n",
       "      <th>sponsor rank</th>\n",
       "      <th>cosponsor rank</th>\n",
       "      <th>final rank</th>\n",
       "    </tr>\n",
       "    <tr>\n",
       "      <th>Senator</th>\n",
       "      <th></th>\n",
       "      <th></th>\n",
       "      <th></th>\n",
       "      <th></th>\n",
       "      <th></th>\n",
       "      <th></th>\n",
       "      <th></th>\n",
       "    </tr>\n",
       "  </thead>\n",
       "  <tbody>\n",
       "    <tr>\n",
       "      <th>Martha McSally</th>\n",
       "      <td>R</td>\n",
       "      <td>F</td>\n",
       "      <td>1.5</td>\n",
       "      <td>138.5</td>\n",
       "      <td>167.0</td>\n",
       "      <td>163.0</td>\n",
       "      <td>169.0</td>\n",
       "    </tr>\n",
       "    <tr>\n",
       "      <th>Marsha Blackburn</th>\n",
       "      <td>R</td>\n",
       "      <td>F</td>\n",
       "      <td>1.5</td>\n",
       "      <td>138.5</td>\n",
       "      <td>158.0</td>\n",
       "      <td>169.0</td>\n",
       "      <td>168.0</td>\n",
       "    </tr>\n",
       "    <tr>\n",
       "      <th>Richard Blumenthal</th>\n",
       "      <td>D</td>\n",
       "      <td>M</td>\n",
       "      <td>9.5</td>\n",
       "      <td>129.0</td>\n",
       "      <td>162.0</td>\n",
       "      <td>160.0</td>\n",
       "      <td>167.0</td>\n",
       "    </tr>\n",
       "    <tr>\n",
       "      <th>Tammy Baldwin</th>\n",
       "      <td>D</td>\n",
       "      <td>F</td>\n",
       "      <td>7.5</td>\n",
       "      <td>155.0</td>\n",
       "      <td>137.0</td>\n",
       "      <td>158.0</td>\n",
       "      <td>166.0</td>\n",
       "    </tr>\n",
       "    <tr>\n",
       "      <th>Benjamin Cardin</th>\n",
       "      <td>D</td>\n",
       "      <td>M</td>\n",
       "      <td>10.5</td>\n",
       "      <td>158.0</td>\n",
       "      <td>163.0</td>\n",
       "      <td>127.0</td>\n",
       "      <td>165.0</td>\n",
       "    </tr>\n",
       "    <tr>\n",
       "      <th>Susan Collins</th>\n",
       "      <td>R</td>\n",
       "      <td>F</td>\n",
       "      <td>10.5</td>\n",
       "      <td>166.0</td>\n",
       "      <td>133.0</td>\n",
       "      <td>133.0</td>\n",
       "      <td>164.0</td>\n",
       "    </tr>\n",
       "    <tr>\n",
       "      <th>Gary Peters</th>\n",
       "      <td>D</td>\n",
       "      <td>M</td>\n",
       "      <td>5.5</td>\n",
       "      <td>133.0</td>\n",
       "      <td>132.0</td>\n",
       "      <td>161.0</td>\n",
       "      <td>163.0</td>\n",
       "    </tr>\n",
       "    <tr>\n",
       "      <th>Sherrod Brown</th>\n",
       "      <td>D</td>\n",
       "      <td>M</td>\n",
       "      <td>10.5</td>\n",
       "      <td>115.0</td>\n",
       "      <td>161.0</td>\n",
       "      <td>145.0</td>\n",
       "      <td>161.5</td>\n",
       "    </tr>\n",
       "    <tr>\n",
       "      <th>Tina Smith</th>\n",
       "      <td>D</td>\n",
       "      <td>F</td>\n",
       "      <td>2.5</td>\n",
       "      <td>166.0</td>\n",
       "      <td>98.0</td>\n",
       "      <td>157.0</td>\n",
       "      <td>161.5</td>\n",
       "    </tr>\n",
       "    <tr>\n",
       "      <th>Cory Gardner</th>\n",
       "      <td>R</td>\n",
       "      <td>M</td>\n",
       "      <td>5.5</td>\n",
       "      <td>116.5</td>\n",
       "      <td>151.0</td>\n",
       "      <td>147.0</td>\n",
       "      <td>159.5</td>\n",
       "    </tr>\n",
       "    <tr>\n",
       "      <th>Chris Van Hollen</th>\n",
       "      <td>D</td>\n",
       "      <td>M</td>\n",
       "      <td>3.5</td>\n",
       "      <td>144.0</td>\n",
       "      <td>104.5</td>\n",
       "      <td>166.0</td>\n",
       "      <td>159.5</td>\n",
       "    </tr>\n",
       "    <tr>\n",
       "      <th>Edward Markey</th>\n",
       "      <td>D</td>\n",
       "      <td>M</td>\n",
       "      <td>7.0</td>\n",
       "      <td>81.0</td>\n",
       "      <td>166.0</td>\n",
       "      <td>162.0</td>\n",
       "      <td>158.0</td>\n",
       "    </tr>\n",
       "    <tr>\n",
       "      <th>Olympia Snowe</th>\n",
       "      <td>R</td>\n",
       "      <td>F</td>\n",
       "      <td>3.0</td>\n",
       "      <td>166.0</td>\n",
       "      <td>134.0</td>\n",
       "      <td>108.0</td>\n",
       "      <td>157.0</td>\n",
       "    </tr>\n",
       "    <tr>\n",
       "      <th>Bob Casey</th>\n",
       "      <td>D</td>\n",
       "      <td>M</td>\n",
       "      <td>10.5</td>\n",
       "      <td>124.5</td>\n",
       "      <td>165.0</td>\n",
       "      <td>118.0</td>\n",
       "      <td>156.0</td>\n",
       "    </tr>\n",
       "    <tr>\n",
       "      <th>Jon Tester</th>\n",
       "      <td>D</td>\n",
       "      <td>M</td>\n",
       "      <td>10.5</td>\n",
       "      <td>142.0</td>\n",
       "      <td>150.0</td>\n",
       "      <td>112.0</td>\n",
       "      <td>155.0</td>\n",
       "    </tr>\n",
       "  </tbody>\n",
       "</table>\n",
       "</div>"
      ],
      "text/plain": [
       "                   party gender  years in office  vote rank  sponsor rank  \\\n",
       "Senator                                                                     \n",
       "Martha McSally         R      F              1.5      138.5         167.0   \n",
       "Marsha Blackburn       R      F              1.5      138.5         158.0   \n",
       "Richard Blumenthal     D      M              9.5      129.0         162.0   \n",
       "Tammy Baldwin          D      F              7.5      155.0         137.0   \n",
       "Benjamin Cardin        D      M             10.5      158.0         163.0   \n",
       "Susan Collins          R      F             10.5      166.0         133.0   \n",
       "Gary Peters            D      M              5.5      133.0         132.0   \n",
       "Sherrod Brown          D      M             10.5      115.0         161.0   \n",
       "Tina Smith             D      F              2.5      166.0          98.0   \n",
       "Cory Gardner           R      M              5.5      116.5         151.0   \n",
       "Chris Van Hollen       D      M              3.5      144.0         104.5   \n",
       "Edward Markey          D      M              7.0       81.0         166.0   \n",
       "Olympia Snowe          R      F              3.0      166.0         134.0   \n",
       "Bob Casey              D      M             10.5      124.5         165.0   \n",
       "Jon Tester             D      M             10.5      142.0         150.0   \n",
       "\n",
       "                    cosponsor rank  final rank  \n",
       "Senator                                         \n",
       "Martha McSally               163.0       169.0  \n",
       "Marsha Blackburn             169.0       168.0  \n",
       "Richard Blumenthal           160.0       167.0  \n",
       "Tammy Baldwin                158.0       166.0  \n",
       "Benjamin Cardin              127.0       165.0  \n",
       "Susan Collins                133.0       164.0  \n",
       "Gary Peters                  161.0       163.0  \n",
       "Sherrod Brown                145.0       161.5  \n",
       "Tina Smith                   157.0       161.5  \n",
       "Cory Gardner                 147.0       159.5  \n",
       "Chris Van Hollen             166.0       159.5  \n",
       "Edward Markey                162.0       158.0  \n",
       "Olympia Snowe                108.0       157.0  \n",
       "Bob Casey                    118.0       156.0  \n",
       "Jon Tester                   112.0       155.0  "
      ]
     },
     "execution_count": 82,
     "metadata": {},
     "output_type": "execute_result"
    }
   ],
   "source": [
    "df_most_active = df_small.nlargest(15, \"final rank\")\n",
    "df_most_active"
   ]
  },
  {
   "cell_type": "code",
   "execution_count": 83,
   "metadata": {},
   "outputs": [
    {
     "data": {
      "text/html": [
       "<div>\n",
       "<style scoped>\n",
       "    .dataframe tbody tr th:only-of-type {\n",
       "        vertical-align: middle;\n",
       "    }\n",
       "\n",
       "    .dataframe tbody tr th {\n",
       "        vertical-align: top;\n",
       "    }\n",
       "\n",
       "    .dataframe thead th {\n",
       "        text-align: right;\n",
       "    }\n",
       "</style>\n",
       "<table border=\"1\" class=\"dataframe\">\n",
       "  <thead>\n",
       "    <tr style=\"text-align: right;\">\n",
       "      <th></th>\n",
       "      <th>party</th>\n",
       "    </tr>\n",
       "    <tr>\n",
       "      <th>gender</th>\n",
       "      <th></th>\n",
       "    </tr>\n",
       "  </thead>\n",
       "  <tbody>\n",
       "    <tr>\n",
       "      <th>F</th>\n",
       "      <td>35</td>\n",
       "    </tr>\n",
       "    <tr>\n",
       "      <th>M</th>\n",
       "      <td>134</td>\n",
       "    </tr>\n",
       "  </tbody>\n",
       "</table>\n",
       "</div>"
      ],
      "text/plain": [
       "        party\n",
       "gender       \n",
       "F          35\n",
       "M         134"
      ]
     },
     "execution_count": 83,
     "metadata": {},
     "output_type": "execute_result"
    }
   ],
   "source": [
    "df_small.groupby(\"gender\")[[\"party\"]].count()"
   ]
  },
  {
   "cell_type": "markdown",
   "metadata": {},
   "source": [
    "Women make up 40% of the top 15 most active senators, while only making up 20% of total senators since 2010.<br>Men make up 100% of the 30 least active senators, while making up 60% of total senators since 2010.<br>"
   ]
  }
 ],
 "metadata": {
  "kernelspec": {
   "display_name": "Python 3",
   "language": "python",
   "name": "python3"
  },
  "language_info": {
   "codemirror_mode": {
    "name": "ipython",
    "version": 3
   },
   "file_extension": ".py",
   "mimetype": "text/x-python",
   "name": "python",
   "nbconvert_exporter": "python",
   "pygments_lexer": "ipython3",
   "version": "3.6.8"
  }
 },
 "nbformat": 4,
 "nbformat_minor": 2
}
