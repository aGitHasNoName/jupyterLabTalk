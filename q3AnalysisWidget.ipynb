{
 "cells": [
  {
   "cell_type": "markdown",
   "metadata": {},
   "source": [
    "# Q3 Analysis"
   ]
  },
  {
   "cell_type": "markdown",
   "metadata": {},
   "source": [
    "The goal is to identify the least active Senators since 2010. I will be measuring activity by three stats, all included in the cleaned DataFrame:\n",
    "1. number of bills cosponsored/time served in Senate since 2010\n",
    "2. number of bills sponsored/time served in Senate since 2010\n",
    "3. number of votes the Senator was present for/total number of votes the Senator was eligible for"
   ]
  },
  {
   "cell_type": "markdown",
   "metadata": {},
   "source": [
    "Before aggragating the three stats and listing the overall least active Senators, I will present the categories individually. For each category, I will present:\n",
    "- the bottom three Senators\n",
    "- the mean for all Senators\n",
    "- the mean for each party\n",
    "- the mean for each gender\n",
    "- the relationship between the statistic and time served in the Senate"
   ]
  },
  {
   "cell_type": "markdown",
   "metadata": {},
   "source": [
    "To determine the least active Senators since 2010, I will rank all Senators in each of the three categories, total up their rankings, and present the bottom three (I will also present the top three, just for fun). I will research the bottom three Senators and present any extraordinary circumstances that may be at play."
   ]
  },
  {
   "cell_type": "markdown",
   "metadata": {},
   "source": [
    "Finally, I will save all figures for use in a single graphic."
   ]
  },
  {
   "cell_type": "markdown",
   "metadata": {},
   "source": [
    "## Modules, Data, and Functions"
   ]
  },
  {
   "cell_type": "code",
   "execution_count": 1,
   "metadata": {},
   "outputs": [],
   "source": [
    "%matplotlib inline\n",
    "import pandas as pd\n",
    "import matplotlib.pyplot as plt\n",
    "import ipywidgets as widgets\n",
    "from IPython.display import display\n",
    "from ipywidgets import interact, interactive, fixed, interact_manual"
   ]
  },
  {
   "cell_type": "code",
   "execution_count": 9,
   "metadata": {},
   "outputs": [],
   "source": [
    "df = pd.read_csv(\"q3CleanedData.csv\")\n",
    "df = df.set_index(\"id\")\n"
   ]
  },
  {
   "cell_type": "code",
   "execution_count": 4,
   "metadata": {},
   "outputs": [],
   "source": [
    "def makeBarChart(num):\n",
    "    \"\"\"Function to make bar graph with means of party, gender, and total, plus actual values\n",
    "    for lowest values for column provided. Number of lowest values is also provided.\"\"\"\n",
    "    fig, ax = plt.subplots(figsize=(4,6))\n",
    "    means = [df.groupby(\"party\")[\"vote_pct\"].mean()[\"D\"], df.groupby(\"party\")[\"vote_pct\"].mean()[\"R\"], \n",
    "             df.groupby(\"gender\")[\"vote_pct\"].mean()[\"M\"], df.groupby(\"gender\")[\"vote_pct\"].mean()[\"F\"],\n",
    "             df[\"vote_pct\"].mean()]\n",
    "    labels = [\"Democrat\", \"Republican\", \"Male\", \"Female\", \"All Senators\"]\n",
    "    colors = [\"cornflowerblue\", \"tomato\", \"mediumpurple\", \"mediumpurple\", \"mediumpurple\"]\n",
    "    lowestdf = df.nsmallest(num, \"vote_pct\")\n",
    "    lowest_list = list(lowestdf.index)\n",
    "    for senator in lowest_list:\n",
    "        means.append(lowestdf.loc[senator][\"vote_pct\"])\n",
    "        if lowestdf.loc[senator].party == \"R\":\n",
    "            colors.append(\"tomato\")\n",
    "        else:\n",
    "            colors.append(\"cornflowerblue\")\n",
    "        labels.append(lowestdf.loc[senator].first_name + \" \" +lowestdf.loc[senator].last_name)\n",
    "    ax.barh(labels, means, label=labels, color=colors)\n",
    "    ax.invert_yaxis()\n",
    "    ax.set_title(\"Percentage of votes attended since 2010 among all senators\")\n",
    "    plt.show()"
   ]
  },
  {
   "cell_type": "code",
   "execution_count": 70,
   "metadata": {},
   "outputs": [],
   "source": []
  },
  {
   "cell_type": "code",
   "execution_count": 5,
   "metadata": {},
   "outputs": [],
   "source": [
    "def makeBarChartYear(num):\n",
    "    \"\"\"Function to make bar graph with means of party, gender, and total, plus actual values\n",
    "    for lowest values for column provided. Number of lowest values is also user provided.\"\"\"\n",
    "    fig, ax = plt.subplots(figsize=(4,6))\n",
    "    means = [df.groupby(\"party\")[\"vote_pct\"].mean()[\"D\"], df.groupby(\"party\")[\"vote_pct\"].mean()[\"R\"], \n",
    "             df.groupby(\"gender\")[\"vote_pct\"].mean()[\"M\"], df.groupby(\"gender\")[\"vote_pct\"].mean()[\"F\"],\n",
    "             df[\"vote_pct\"].mean()]\n",
    "    labels = [\"Democrat\", \"Republican\", \"Male\", \"Female\", \"All Senators\"]\n",
    "    colors = [\"cornflowerblue\", \"tomato\", \"mediumpurple\", \"mediumpurple\", \"mediumpurple\"]\n",
    "    \n",
    "    lowyeardf = df[df.term_length > 1].nsmallest(num, \"vote_pct\")\n",
    "    lowyear_list = list(lowyeardf.index)\n",
    "    for senator in lowyear_list:\n",
    "        means.append(lowyeardf.loc[senator][\"vote_pct\"])\n",
    "        if lowyeardf.loc[senator].party == \"R\":\n",
    "            colors.append(\"tomato\")\n",
    "        else:\n",
    "            colors.append(\"cornflowerblue\")\n",
    "        labels.append(lowyeardf.loc[senator].first_name + \" \" +lowyeardf.loc[senator].last_name)\n",
    "    ax.barh(labels, means, label=labels, color=colors)\n",
    "    ax.invert_yaxis()\n",
    "    ax.set_title(\"Percentage of votes attended since 2010 among senators with over 1 year of service\")\n",
    "    plt.show()\n",
    "\n"
   ]
  },
  {
   "cell_type": "markdown",
   "metadata": {},
   "source": [
    "## <br>Vote percentage"
   ]
  },
  {
   "cell_type": "code",
   "execution_count": 13,
   "metadata": {},
   "outputs": [
    {
     "data": {
      "application/vnd.jupyter.widget-view+json": {
       "model_id": "4f466e52e9464ca0b9aa7aa0c5267127",
       "version_major": 2,
       "version_minor": 0
      },
      "text/plain": [
       "interactive(children=(IntSlider(value=3, continuous_update=False, description='Lowest:', max=10), Output()), _…"
      ]
     },
     "metadata": {},
     "output_type": "display_data"
    }
   ],
   "source": [
    "interactive_plot = interactive(makeBarChart, \n",
    "                               num=widgets.IntSlider(value=3,\n",
    "                                                     min=0,\n",
    "                                                     max=10,\n",
    "                                                     step=1,\n",
    "                                                     description=\"Lowest:\",\n",
    "                                                     continuous_update=False))\n",
    "display(interactive_plot)"
   ]
  },
  {
   "cell_type": "code",
   "execution_count": 14,
   "metadata": {},
   "outputs": [
    {
     "data": {
      "application/vnd.jupyter.widget-view+json": {
       "model_id": "1031be6f8e7e4bdd92806abdc632ffc0",
       "version_major": 2,
       "version_minor": 0
      },
      "text/plain": [
       "interactive(children=(IntSlider(value=3, continuous_update=False, description='Lowest:', max=10), Output()), _…"
      ]
     },
     "metadata": {},
     "output_type": "display_data"
    }
   ],
   "source": [
    "interactive_plot_year = interactive(makeBarChartYear, \n",
    "                               num=widgets.IntSlider(value=3,\n",
    "                                                     min=0,\n",
    "                                                     max=10,\n",
    "                                                     step=1,\n",
    "                                                     description=\"Lowest:\",\n",
    "                                                     continuous_update=False))\n",
    "display(interactive_plot_year)"
   ]
  },
  {
   "cell_type": "code",
   "execution_count": 15,
   "metadata": {},
   "outputs": [
    {
     "data": {
      "application/vnd.jupyter.widget-view+json": {
       "model_id": "279a53fe21284e33a7dac5ad8e069d8c",
       "version_major": 2,
       "version_minor": 0
      },
      "text/plain": [
       "Accordion(children=(interactive(children=(IntSlider(value=3, continuous_update=False, description='Lowest:', m…"
      ]
     },
     "metadata": {},
     "output_type": "display_data"
    }
   ],
   "source": [
    "accordion = widgets.Accordion(children=[interactive_plot, interactive_plot_year])\n",
    "accordion.set_title(0, 'Senators with lowest voting percentage')\n",
    "accordion.set_title(1, 'Senators with lowest voting percentage (over 1 year of service)')\n",
    "display(accordion)"
   ]
  },
  {
   "cell_type": "code",
   "execution_count": null,
   "metadata": {},
   "outputs": [],
   "source": []
  }
 ],
 "metadata": {
  "kernelspec": {
   "display_name": "Python 3",
   "language": "python",
   "name": "python3"
  },
  "language_info": {
   "codemirror_mode": {
    "name": "ipython",
    "version": 3
   },
   "file_extension": ".py",
   "mimetype": "text/x-python",
   "name": "python",
   "nbconvert_exporter": "python",
   "pygments_lexer": "ipython3",
   "version": "3.6.8"
  }
 },
 "nbformat": 4,
 "nbformat_minor": 2
}
