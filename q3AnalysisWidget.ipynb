{
 "cells": [
  {
   "cell_type": "markdown",
   "metadata": {},
   "source": [
    "# Widget html example"
   ]
  },
  {
   "cell_type": "code",
   "execution_count": 25,
   "metadata": {},
   "outputs": [],
   "source": [
    "%matplotlib inline\n",
    "import pandas as pd\n",
    "import matplotlib.pyplot as plt\n",
    "import ipywidgets as widgets\n",
    "from IPython.display import display\n",
    "from ipywidgets import interact, interactive, fixed, interact_manual"
   ]
  },
  {
   "cell_type": "code",
   "execution_count": 26,
   "metadata": {},
   "outputs": [],
   "source": [
    "df = pd.read_csv(\"q3CleanedData.csv\")\n",
    "df = df.set_index(\"id\")\n"
   ]
  },
  {
   "cell_type": "code",
   "execution_count": 27,
   "metadata": {},
   "outputs": [],
   "source": [
    "def makeBarChart(num):\n",
    "    \"\"\"Function to make bar graph with means of party, gender, and total, plus actual values\n",
    "    for lowest values for column provided. Number of lowest values is also provided.\"\"\"\n",
    "    fig, ax = plt.subplots(figsize=(4,6))\n",
    "    means = [df.groupby(\"party\")[\"vote_pct\"].mean()[\"D\"], df.groupby(\"party\")[\"vote_pct\"].mean()[\"R\"], \n",
    "             df.groupby(\"gender\")[\"vote_pct\"].mean()[\"M\"], df.groupby(\"gender\")[\"vote_pct\"].mean()[\"F\"],\n",
    "             df[\"vote_pct\"].mean()]\n",
    "    labels = [\"Democrat\", \"Republican\", \"Male\", \"Female\", \"All Senators\"]\n",
    "    colors = [\"cornflowerblue\", \"tomato\", \"mediumpurple\", \"mediumpurple\", \"mediumpurple\"]\n",
    "    lowestdf = df.nsmallest(num, \"vote_pct\")\n",
    "    lowest_list = list(lowestdf.index)\n",
    "    for senator in lowest_list:\n",
    "        means.append(lowestdf.loc[senator][\"vote_pct\"])\n",
    "        if lowestdf.loc[senator].party == \"R\":\n",
    "            colors.append(\"tomato\")\n",
    "        else:\n",
    "            colors.append(\"cornflowerblue\")\n",
    "        labels.append(lowestdf.loc[senator].first_name + \" \" +lowestdf.loc[senator].last_name)\n",
    "    ax.barh(labels, means, label=labels, color=colors)\n",
    "    ax.invert_yaxis()\n",
    "    ax.set_title(\"Percentage of votes attended since 2010 among all senators\")\n",
    "    plt.show()"
   ]
  },
  {
   "cell_type": "code",
   "execution_count": 28,
   "metadata": {},
   "outputs": [],
   "source": [
    "def makeBarChartYear(num):\n",
    "    \"\"\"Function to make bar graph with means of party, gender, and total, plus actual values\n",
    "    for lowest values for column provided. Number of lowest values is also user provided.\"\"\"\n",
    "    fig, ax = plt.subplots(figsize=(4,6))\n",
    "    means = [df.groupby(\"party\")[\"vote_pct\"].mean()[\"D\"], df.groupby(\"party\")[\"vote_pct\"].mean()[\"R\"], \n",
    "             df.groupby(\"gender\")[\"vote_pct\"].mean()[\"M\"], df.groupby(\"gender\")[\"vote_pct\"].mean()[\"F\"],\n",
    "             df[\"vote_pct\"].mean()]\n",
    "    labels = [\"Democrat\", \"Republican\", \"Male\", \"Female\", \"All Senators\"]\n",
    "    colors = [\"cornflowerblue\", \"tomato\", \"mediumpurple\", \"mediumpurple\", \"mediumpurple\"]\n",
    "    \n",
    "    lowyeardf = df[df.term_length > 1].nsmallest(num, \"vote_pct\")\n",
    "    lowyear_list = list(lowyeardf.index)\n",
    "    for senator in lowyear_list:\n",
    "        means.append(lowyeardf.loc[senator][\"vote_pct\"])\n",
    "        if lowyeardf.loc[senator].party == \"R\":\n",
    "            colors.append(\"tomato\")\n",
    "        else:\n",
    "            colors.append(\"cornflowerblue\")\n",
    "        labels.append(lowyeardf.loc[senator].first_name + \" \" +lowyeardf.loc[senator].last_name)\n",
    "    ax.barh(labels, means, label=labels, color=colors)\n",
    "    ax.invert_yaxis()\n",
    "    ax.set_title(\"Percentage of votes attended since 2010 among senators with over 1 year of service\")\n",
    "    plt.show()\n",
    "\n"
   ]
  },
  {
   "cell_type": "markdown",
   "metadata": {},
   "source": [
    "## <br>Vote percentage"
   ]
  },
  {
   "cell_type": "code",
   "execution_count": 29,
   "metadata": {},
   "outputs": [],
   "source": [
    "interactive_plot = interactive(makeBarChart, \n",
    "                               num=widgets.IntSlider(value=3,\n",
    "                                                     min=0,\n",
    "                                                     max=10,\n",
    "                                                     step=1,\n",
    "                                                     description=\"Lowest:\",\n",
    "                                                     continuous_update=False))\n",
    "#display(interactive_plot)"
   ]
  },
  {
   "cell_type": "code",
   "execution_count": 30,
   "metadata": {},
   "outputs": [],
   "source": [
    "interactive_plot_year = interactive(makeBarChartYear, \n",
    "                               num=widgets.IntSlider(value=3,\n",
    "                                                     min=0,\n",
    "                                                     max=10,\n",
    "                                                     step=1,\n",
    "                                                     description=\"Lowest:\",\n",
    "                                                     continuous_update=False))\n",
    "#display(interactive_plot_year)"
   ]
  },
  {
   "cell_type": "code",
   "execution_count": 31,
   "metadata": {
    "slideshow": {
     "slide_type": "-"
    }
   },
   "outputs": [
    {
     "data": {
      "application/vnd.jupyter.widget-view+json": {
       "model_id": "891ca645144c4ee68b7602980ce88fe9",
       "version_major": 2,
       "version_minor": 0
      },
      "text/plain": [
       "Accordion(children=(interactive(children=(IntSlider(value=3, continuous_update=False, description='Lowest:', m…"
      ]
     },
     "metadata": {},
     "output_type": "display_data"
    }
   ],
   "source": [
    "accordion = widgets.Accordion(children=[interactive_plot, interactive_plot_year])\n",
    "accordion.set_title(0, 'Senators with lowest voting percentage')\n",
    "accordion.set_title(1, 'Senators with lowest voting percentage (over 1 year of service)')\n",
    "display(accordion)"
   ]
  },
  {
   "cell_type": "code",
   "execution_count": null,
   "metadata": {},
   "outputs": [],
   "source": []
  }
 ],
 "metadata": {
  "kernelspec": {
   "display_name": "Python 3",
   "language": "python",
   "name": "python3"
  },
  "language_info": {
   "codemirror_mode": {
    "name": "ipython",
    "version": 3
   },
   "file_extension": ".py",
   "mimetype": "text/x-python",
   "name": "python",
   "nbconvert_exporter": "python",
   "pygments_lexer": "ipython3",
   "version": "3.6.8"
  }
 },
 "nbformat": 4,
 "nbformat_minor": 2
}
