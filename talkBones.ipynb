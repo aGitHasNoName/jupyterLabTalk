{
 "cells": [
  {
   "cell_type": "markdown",
   "metadata": {
    "slideshow": {
     "slide_type": "slide"
    }
   },
   "source": [
    "# Jupyter Lab for Researchers\n",
    "### Colby Witherup Wood\n",
    "September 11, 2019"
   ]
  },
  {
   "cell_type": "markdown",
   "metadata": {
    "slideshow": {
     "slide_type": "slide"
    }
   },
   "source": [
    "### Outline\n",
    "1. Introduction to Jupyter Lab\n",
    "2. Jupyter Lab for beginner, intermediate, and advanced researchers\n",
    "3. What's new in Jupyter Lab\n",
    "4. Limitations and conclusions"
   ]
  },
  {
   "cell_type": "markdown",
   "metadata": {
    "slideshow": {
     "slide_type": "slide"
    }
   },
   "source": [
    "### Jupyter Notebooks"
   ]
  },
  {
   "cell_type": "markdown",
   "metadata": {
    "slideshow": {
     "slide_type": "-"
    }
   },
   "source": [
    "- [very popular with academic researchers](https://www.nature.com/articles/d41586-018-07196-1)\n",
    "- code is presented alongside output and markdown\n",
    "- over 3 million public Jupyter Notebooks on GitHub"
   ]
  },
  {
   "cell_type": "markdown",
   "metadata": {
    "slideshow": {
     "slide_type": "subslide"
    }
   },
   "source": [
    "[astronomy notebook](https://github.com/eleanorlutz/asteroids_atlas_of_space/blob/master/4_log_scale_plotting.ipynb)"
   ]
  },
  {
   "cell_type": "markdown",
   "metadata": {},
   "source": [
    "[RNAseq Zika notebook](https://github.com/MaayanLab/Zika-RNAseq-Pipeline/blob/master/Zika.ipynb)"
   ]
  },
  {
   "cell_type": "markdown",
   "metadata": {
    "slideshow": {
     "slide_type": "subslide"
    }
   },
   "source": [
    "#### Notebooks are still the main draw of Jupyter Lab, but there are many new features outside of the notebooks."
   ]
  },
  {
   "cell_type": "markdown",
   "metadata": {
    "slideshow": {
     "slide_type": "slide"
    }
   },
   "source": [
    "### Project Jupyter"
   ]
  },
  {
   "cell_type": "markdown",
   "metadata": {
    "slideshow": {
     "slide_type": "subslide"
    }
   },
   "source": [
    "Project Jupyter developed out of the IPython Project."
   ]
  },
  {
   "cell_type": "markdown",
   "metadata": {
    "slideshow": {
     "slide_type": "subslide"
    }
   },
   "source": [
    "Project Jupyter deals with developing tools that are language-agnostic."
   ]
  },
  {
   "cell_type": "markdown",
   "metadata": {
    "slideshow": {
     "slide_type": "subslide"
    }
   },
   "source": [
    "Project Jupyter is non-profit, open-source, and free."
   ]
  },
  {
   "cell_type": "markdown",
   "metadata": {
    "slideshow": {
     "slide_type": "subslide"
    }
   },
   "source": [
    "Jupyter originally stood for Julia, Python, and R, but now works with many other languages."
   ]
  },
  {
   "cell_type": "markdown",
   "metadata": {
    "slideshow": {
     "slide_type": "subslide"
    }
   },
   "source": [
    "#### Jupyter Notebook will soon cease to be supported as a stand-alone program, forcing all notebook users to switch to Jupyter Lab (which includes notebooks as one feature)"
   ]
  },
  {
   "cell_type": "markdown",
   "metadata": {
    "slideshow": {
     "slide_type": "slide"
    }
   },
   "source": [
    "### Jupyter Lab"
   ]
  },
  {
   "cell_type": "markdown",
   "metadata": {
    "slideshow": {
     "slide_type": "subslide"
    }
   },
   "source": [
    "- browser based, extendable IDE\n",
    "- [over 100 kernels](https://github.com/jupyter/jupyter/wiki/Jupyter-kernels) are available for different programming languages"
   ]
  },
  {
   "cell_type": "markdown",
   "metadata": {
    "slideshow": {
     "slide_type": "subslide"
    }
   },
   "source": [
    "Contains 4 main tools:\n",
    "- consoles for interactive coding in the kernels of your choice\n",
    "- a text editor with syntax highlighting, key maps, indentation preferences, etc.\n",
    "- notebooks in your kernels of choice\n",
    "- a terminal (bash or PowerShell)"
   ]
  },
  {
   "cell_type": "markdown",
   "metadata": {
    "slideshow": {
     "slide_type": "subslide"
    }
   },
   "source": [
    "Also contains a file tree and several bonus features:\n",
    "- opens most file types inside the browser tab (jpeg, png, pdf, gif, json)\n",
    "- opens large csv files (even larger than Excel can handle)\n",
    "- has many extensions available, both for notebooks, which we will talk about later, and for the rest of Jupyter Lab\n",
    "- additional extensions are coming out, both from Project Jupyter and from other developers and users\n",
    "- has extensions for features you will see in other IDEs, like GitHub, Vim, and LaTex, but also features that you won't find in other IDEs"
   ]
  },
  {
   "cell_type": "markdown",
   "metadata": {
    "slideshow": {
     "slide_type": "slide"
    }
   },
   "source": [
    "### Jupyter Lab for Beginning Coders"
   ]
  },
  {
   "cell_type": "markdown",
   "metadata": {
    "slideshow": {
     "slide_type": "subslide"
    }
   },
   "source": [
    "- browser/tab based, so familiar to new coders"
   ]
  },
  {
   "cell_type": "markdown",
   "metadata": {
    "slideshow": {
     "slide_type": "subslide"
    }
   },
   "source": [
    "- free, included in anaconda, works well with both Macs and PCs"
   ]
  },
  {
   "cell_type": "markdown",
   "metadata": {
    "slideshow": {
     "slide_type": "subslide"
    }
   },
   "source": [
    "- clean, uncomplicated interface"
   ]
  },
  {
   "cell_type": "markdown",
   "metadata": {
    "slideshow": {
     "slide_type": "subslide"
    }
   },
   "source": [
    "- has Terminal, text editor, console"
   ]
  },
  {
   "cell_type": "markdown",
   "metadata": {
    "slideshow": {
     "slide_type": "subslide"
    }
   },
   "source": [
    "- browser based gives easy access to Google"
   ]
  },
  {
   "cell_type": "markdown",
   "metadata": {
    "slideshow": {
     "slide_type": "subslide"
    }
   },
   "source": [
    "- has all color-coding, bracket-completion, tab-completion, etc. of an IDE"
   ]
  },
  {
   "cell_type": "markdown",
   "metadata": {
    "slideshow": {
     "slide_type": "subslide"
    }
   },
   "source": [
    "- we've used it in some of the beginning and next steps Python workshops this summer through RCS, so some beginners at NU will already be familiar"
   ]
  },
  {
   "cell_type": "markdown",
   "metadata": {
    "slideshow": {
     "slide_type": "slide"
    }
   },
   "source": [
    "### Jupyter Lab for Intermediate Coders"
   ]
  },
  {
   "cell_type": "markdown",
   "metadata": {
    "slideshow": {
     "slide_type": "subslide"
    }
   },
   "source": [
    "- multiple languages can be read, written, and run from one IDE"
   ]
  },
  {
   "cell_type": "markdown",
   "metadata": {
    "slideshow": {
     "slide_type": "subslide"
    }
   },
   "source": [
    "- over 3 million notebooks are available online to learn new skills and borrow code"
   ]
  },
  {
   "cell_type": "markdown",
   "metadata": {
    "slideshow": {
     "slide_type": "slide"
    }
   },
   "source": [
    "### Jupyter Lab for Advanced Researchers"
   ]
  },
  {
   "cell_type": "markdown",
   "metadata": {
    "slideshow": {
     "slide_type": "subslide"
    }
   },
   "source": [
    "#### Teaching\n",
    "- Create interactive notebooks to [supplement coursework](https://github.com/aleksicmil/Pima-Indians-Diabetes) with hands-on data analysis\n",
    "- Create interactive tutorials for programming skills for [beginning](https://github.com/aGitHasNoName/intro-python-summer2019/blob/master/learningPandas.ipynb) or [advanced](https://github.com/fastai/numerical-linear-algebra) topics"
   ]
  },
  {
   "cell_type": "markdown",
   "metadata": {
    "slideshow": {
     "slide_type": "subslide"
    }
   },
   "source": [
    "#### Collaboration\n",
    "- Share your analyses with coauthors in a narrative format\n",
    "- Access Google Drive files ([or a remote server](https://benjlindsay.com/blog/running-jupyter-lab-remotely/)) shared by lab members or coauthors\n",
    "- Use [Jupyter Hub](https://jupyter.org/hub) to set up one Jupyter Lab environment for many users on a single server or cluster\n",
    "- Join the [Jupyter for Research Facilities discussion forum](https://groups.google.com/forum/?pli=1#!forum/jupyter-research-facilities)"
   ]
  },
  {
   "cell_type": "markdown",
   "metadata": {
    "slideshow": {
     "slide_type": "subslide"
    }
   },
   "source": [
    "#### Analysis, results, and publication\n",
    "- Use data visualization tools and machine learning on huge data sets [with HPC](https://blog.jupyter.org/jupyter-for-science-user-facilities-and-high-performance-computing-de178106872)\n",
    "- Combine text, code, and visuals in one narrative\n",
    "- Create interactive software tools for analysis and visualization that can be made available to other researchers"
   ]
  },
  {
   "cell_type": "markdown",
   "metadata": {
    "slideshow": {
     "slide_type": "slide"
    }
   },
   "source": [
    "### New and Useful Tools"
   ]
  },
  {
   "cell_type": "markdown",
   "metadata": {
    "slideshow": {
     "slide_type": "slide"
    }
   },
   "source": [
    "### [Google Drive extension](https://github.com/jupyterlab/jupyterlab-google-drive)\n",
    "Access files straight from you Google Drive account"
   ]
  },
  {
   "cell_type": "markdown",
   "metadata": {
    "slideshow": {
     "slide_type": "slide"
    }
   },
   "source": [
    "### [Draw.io extension](https://github.com/QuantStack/jupyterlab-drawio)\n",
    "Draw simple figures and workflows to include in your notebooks"
   ]
  },
  {
   "cell_type": "code",
   "execution_count": 15,
   "metadata": {},
   "outputs": [
    {
     "data": {
      "text/html": [
       "\n",
       "        <iframe\n",
       "            width=\"780\"\n",
       "            height=\"424\"\n",
       "            src=\"https://www.youtube.com/embed/CJH34I01cKA\"\n",
       "            frameborder=\"0\"\n",
       "            allowfullscreen\n",
       "        ></iframe>\n",
       "        "
      ],
      "text/plain": [
       "<IPython.lib.display.IFrame at 0x11c7872e8>"
      ]
     },
     "execution_count": 15,
     "metadata": {},
     "output_type": "execute_result"
    }
   ],
   "source": [
    "IFrame(src='https://www.youtube.com/embed/CJH34I01cKA', width='780', height='424')"
   ]
  },
  {
   "cell_type": "markdown",
   "metadata": {
    "slideshow": {
     "slide_type": "slide"
    }
   },
   "source": [
    "### [Google Facets extension](https://pair-code.github.io/facets/)\n",
    "Summarize, explore, filter, and visualize your data, particularly for ML datasets"
   ]
  },
  {
   "cell_type": "markdown",
   "metadata": {
    "slideshow": {
     "slide_type": "slide"
    }
   },
   "source": [
    "### [Notify](https://github.com/ShopRunner/jupyter-notify) \n",
    "Sends a notification to your screen when a long code block stops running"
   ]
  },
  {
   "cell_type": "markdown",
   "metadata": {
    "slideshow": {
     "slide_type": "slide"
    }
   },
   "source": [
    "### New to Notebooks\n",
    "- Drag and drop cells\n",
    "- Organize your Lab in either tabs or tiles\n",
    "- View the same notebook side by side\n",
    "- Collapse/expand cells\n",
    "- Export notebooks to more file types (LaTex, executible script, pdf, html, slides)"
   ]
  },
  {
   "cell_type": "markdown",
   "metadata": {
    "slideshow": {
     "slide_type": "slide"
    }
   },
   "source": [
    "### [Interactive widgets](https://ipywidgets.readthedocs.io/en/latest/examples/Widget%20Basics.html) (like Shiny)\n",
    "- sliders\n",
    "- range sliders\n",
    "- buttons\n",
    "- text boxes\n",
    "- progress bars\n",
    "- color picker\n",
    "- tabs and accordion cells"
   ]
  },
  {
   "cell_type": "markdown",
   "metadata": {
    "slideshow": {
     "slide_type": "slide"
    }
   },
   "source": [
    "#### Example of interactive widget:"
   ]
  },
  {
   "cell_type": "code",
   "execution_count": 19,
   "metadata": {
    "slideshow": {
     "slide_type": "skip"
    }
   },
   "outputs": [],
   "source": [
    "%matplotlib inline\n",
    "import pandas as pd\n",
    "import matplotlib.pyplot as plt\n",
    "import ipywidgets as widgets\n",
    "from IPython.display import display\n",
    "from ipywidgets import interact, interactive, fixed, interact_manual\n",
    "from IPython.display import IFrame\n",
    "from ipywidgets.embed import embed_minimal_html"
   ]
  },
  {
   "cell_type": "code",
   "execution_count": 3,
   "metadata": {
    "slideshow": {
     "slide_type": "skip"
    }
   },
   "outputs": [],
   "source": [
    "df = pd.read_csv(\"q3CleanedData.csv\")\n",
    "df = df.set_index(\"id\")"
   ]
  },
  {
   "cell_type": "code",
   "execution_count": 4,
   "metadata": {
    "slideshow": {
     "slide_type": "skip"
    }
   },
   "outputs": [],
   "source": [
    "def makeBarChart(num):\n",
    "    \"\"\"Function to make bar graph with means of party, gender, and total, plus actual values\n",
    "    for lowest values for column provided. Number of lowest values is also provided.\"\"\"\n",
    "    fig, ax = plt.subplots(figsize=(4,6))\n",
    "    means = [df.groupby(\"party\")[\"vote_pct\"].mean()[\"D\"], df.groupby(\"party\")[\"vote_pct\"].mean()[\"R\"], \n",
    "             df.groupby(\"gender\")[\"vote_pct\"].mean()[\"M\"], df.groupby(\"gender\")[\"vote_pct\"].mean()[\"F\"],\n",
    "             df[\"vote_pct\"].mean()]\n",
    "    labels = [\"Democrat\", \"Republican\", \"Male\", \"Female\", \"All Senators\"]\n",
    "    colors = [\"cornflowerblue\", \"tomato\", \"mediumpurple\", \"mediumpurple\", \"mediumpurple\"]\n",
    "    lowestdf = df.nsmallest(num, \"vote_pct\")\n",
    "    lowest_list = list(lowestdf.index)\n",
    "    for senator in lowest_list:\n",
    "        means.append(lowestdf.loc[senator][\"vote_pct\"])\n",
    "        if lowestdf.loc[senator].party == \"R\":\n",
    "            colors.append(\"tomato\")\n",
    "        else:\n",
    "            colors.append(\"cornflowerblue\")\n",
    "        labels.append(lowestdf.loc[senator].first_name + \" \" +lowestdf.loc[senator].last_name)\n",
    "    ax.barh(labels, means, label=labels, color=colors)\n",
    "    ax.invert_yaxis()\n",
    "    ax.set_title(\"Percentage of votes attended since 2010 among all senators\")\n",
    "    plt.show()\n",
    "    \n",
    "def makeBarChartYear(num):\n",
    "    \"\"\"Function to make bar graph with means of party, gender, and total, plus actual values\n",
    "    for lowest values for column provided. Number of lowest values is also user provided.\"\"\"\n",
    "    fig, ax = plt.subplots(figsize=(4,6))\n",
    "    means = [df.groupby(\"party\")[\"vote_pct\"].mean()[\"D\"], df.groupby(\"party\")[\"vote_pct\"].mean()[\"R\"], \n",
    "             df.groupby(\"gender\")[\"vote_pct\"].mean()[\"M\"], df.groupby(\"gender\")[\"vote_pct\"].mean()[\"F\"],\n",
    "             df[\"vote_pct\"].mean()]\n",
    "    labels = [\"Democrat\", \"Republican\", \"Male\", \"Female\", \"All Senators\"]\n",
    "    colors = [\"cornflowerblue\", \"tomato\", \"mediumpurple\", \"mediumpurple\", \"mediumpurple\"]\n",
    "    \n",
    "    lowyeardf = df[df.term_length > 1].nsmallest(num, \"vote_pct\")\n",
    "    lowyear_list = list(lowyeardf.index)\n",
    "    for senator in lowyear_list:\n",
    "        means.append(lowyeardf.loc[senator][\"vote_pct\"])\n",
    "        if lowyeardf.loc[senator].party == \"R\":\n",
    "            colors.append(\"tomato\")\n",
    "        else:\n",
    "            colors.append(\"cornflowerblue\")\n",
    "        labels.append(lowyeardf.loc[senator].first_name + \" \" +lowyeardf.loc[senator].last_name)\n",
    "    ax.barh(labels, means, label=labels, color=colors)\n",
    "    ax.invert_yaxis()\n",
    "    ax.set_title(\"Percentage of votes attended since 2010 among senators with over 1 year of service\")\n",
    "    plt.show()\n",
    "    \n",
    "interactive_plot = interactive(makeBarChart, \n",
    "                               num=widgets.IntSlider(value=3,\n",
    "                                                     min=0,\n",
    "                                                     max=10,\n",
    "                                                     step=1,\n",
    "                                                     description=\"Lowest:\",\n",
    "                                                     continuous_update=False))\n",
    "\n",
    "interactive_plot_year = interactive(makeBarChartYear, \n",
    "                               num=widgets.IntSlider(value=3,\n",
    "                                                     min=0,\n",
    "                                                     max=10,\n",
    "                                                     step=1,\n",
    "                                                     description=\"Lowest:\",\n",
    "                                                     continuous_update=False))"
   ]
  },
  {
   "cell_type": "code",
   "execution_count": 21,
   "metadata": {
    "slideshow": {
     "slide_type": "-"
    }
   },
   "outputs": [
    {
     "data": {
      "application/vnd.jupyter.widget-view+json": {
       "model_id": "22abce65a4e147fcb1bc1e0357cc06cd",
       "version_major": 2,
       "version_minor": 0
      },
      "text/plain": [
       "Accordion(children=(interactive(children=(IntSlider(value=3, continuous_update=False, description='Lowest:', m…"
      ]
     },
     "metadata": {},
     "output_type": "display_data"
    }
   ],
   "source": [
    "accordion = widgets.Accordion(children=[interactive_plot, interactive_plot_year])\n",
    "accordion.set_title(0, 'Senators with lowest voting percentage')\n",
    "accordion.set_title(1, 'Senators with lowest voting percentage (over 1 year of service)')\n",
    "display(accordion)\n",
    "embed_minimal_html('export.html', views=[accordion], title='Widgets export')"
   ]
  },
  {
   "cell_type": "markdown",
   "metadata": {
    "slideshow": {
     "slide_type": "slide"
    }
   },
   "source": [
    "#### There currently isn't a straightforward way to export your interactive widgets to retain their interactive nature outside of a notebook. It can be done, but it's not seamless yet.\n",
    "- [nbinteract](https://www.nbinteract.com/tutorial/tutorial_github_setup.html) converts notebooks to interactive html pages with embedded JavaScript libraries. Pages can then be hosted on the web (ex. GitHub Pages). But, some features require torubleshooting or may not work.\n",
    "- [Voila](https://github.com/QuantStack/voila) is a package to convert and host notebooks containing widgets. But viewers must also have voila."
   ]
  },
  {
   "cell_type": "markdown",
   "metadata": {
    "slideshow": {
     "slide_type": "slide"
    }
   },
   "source": [
    "## Limitations of Jupyter Lab"
   ]
  },
  {
   "cell_type": "markdown",
   "metadata": {
    "slideshow": {
     "slide_type": "subslide"
    }
   },
   "source": [
    "- Beginners may be tempted to use notebooks for everything. Counterpoint: Is it better for beginners to use notebooks for everything or use the console for everything?"
   ]
  },
  {
   "cell_type": "markdown",
   "metadata": {
    "slideshow": {
     "slide_type": "subslide"
    }
   },
   "source": [
    "- Some tools have been developed specifically for Python, and not other languages"
   ]
  },
  {
   "cell_type": "markdown",
   "metadata": {
    "slideshow": {
     "slide_type": "subslide"
    }
   },
   "source": [
    "- Encourages notebook development rather than software development\n",
    "<br> Counterpoint: makes these tools available for more researchers who aren't going to develop the skills of a software developer or who don't have the funds to hire a software developer"
   ]
  },
  {
   "cell_type": "markdown",
   "metadata": {
    "slideshow": {
     "slide_type": "subslide"
    }
   },
   "source": [
    "- Researchers can lean on notebooks and never learn proper script-writing and code-testing techniques. Counterpoint: Jupyter Lab has all the tools to code without notebooks"
   ]
  },
  {
   "cell_type": "markdown",
   "metadata": {
    "slideshow": {
     "slide_type": "subslide"
    }
   },
   "source": [
    "- Unlike scripts, notebooks cannot be combined into computational pipelines. Counterpoint: Jupyter Lab has all the tools to code without notebooks"
   ]
  },
  {
   "cell_type": "markdown",
   "metadata": {
    "slideshow": {
     "slide_type": "subslide"
    }
   },
   "source": [
    "- [Notebooks don't do well with version control conflicts](https://nextjournal.com/schmudde/how-to-version-control-jupyter)"
   ]
  },
  {
   "cell_type": "markdown",
   "metadata": {
    "slideshow": {
     "slide_type": "subslide"
    }
   },
   "source": [
    "- Doesn't have the layout options of Shiny"
   ]
  },
  {
   "cell_type": "markdown",
   "metadata": {
    "slideshow": {
     "slide_type": "subslide"
    }
   },
   "source": [
    "- Doesn't have the hosting abilities of Shiny and is more difficult to convert to interactive html."
   ]
  },
  {
   "cell_type": "markdown",
   "metadata": {
    "slideshow": {
     "slide_type": "subslide"
    }
   },
   "source": [
    "- Extensions can have some dependencies and be mildly annoying to install."
   ]
  },
  {
   "cell_type": "markdown",
   "metadata": {
    "slideshow": {
     "slide_type": "slide"
    }
   },
   "source": [
    "## Summary"
   ]
  },
  {
   "cell_type": "markdown",
   "metadata": {
    "slideshow": {
     "slide_type": "subslide"
    }
   },
   "source": [
    "Jupyter Lab brings the well-loved notebooks into a clean, simple IDE that can be expanded with extensions. Perks are the included terminal, ability to code in multiple language consoles in one IDE, and the Jupyter widgets to create interactive notebooks. Negatives include the notebooks don't encourage good coding habits and the interactive notebooks don't yet rival Shiny apps. "
   ]
  },
  {
   "cell_type": "markdown",
   "metadata": {
    "slideshow": {
     "slide_type": "subslide"
    }
   },
   "source": [
    "Jupyter Lab is a good choice for researchers who are just starting to code, especially in Python, as it includes a text editor, terminal, and console. "
   ]
  },
  {
   "cell_type": "markdown",
   "metadata": {
    "slideshow": {
     "slide_type": "subslide"
    }
   },
   "source": [
    "Researchers who already love Notebooks, and who will soon be forced to used Jupyter Lab, will have an easy transition, as the design is minimalist."
   ]
  },
  {
   "cell_type": "markdown",
   "metadata": {
    "slideshow": {
     "slide_type": "subslide"
    }
   },
   "source": [
    "Jupyter Lab is a good choice for researchers who need to visualize data and results from very large datasets that are stored on remote servers or Google Drive, and for professors looking to build textbooks that include code in Python or other languages that don't already have developed markdown software."
   ]
  },
  {
   "cell_type": "markdown",
   "metadata": {
    "slideshow": {
     "slide_type": "subslide"
    }
   },
   "source": [
    "More advanced Python coders who conduct research in all disciplines can feel confident that the functionality of Jupyter Lab is going to continue to improve exponentially as new features are added by Jupyter and new extensions are developed by users."
   ]
  },
  {
   "cell_type": "markdown",
   "metadata": {
    "slideshow": {
     "slide_type": "slide"
    }
   },
   "source": [
    "## Questions?"
   ]
  }
 ],
 "metadata": {
  "kernelspec": {
   "display_name": "Python 3",
   "language": "python",
   "name": "python3"
  },
  "language_info": {
   "codemirror_mode": {
    "name": "ipython",
    "version": 3
   },
   "file_extension": ".py",
   "mimetype": "text/x-python",
   "name": "python",
   "nbconvert_exporter": "python",
   "pygments_lexer": "ipython3",
   "version": "3.6.8"
  }
 },
 "nbformat": 4,
 "nbformat_minor": 2
}
