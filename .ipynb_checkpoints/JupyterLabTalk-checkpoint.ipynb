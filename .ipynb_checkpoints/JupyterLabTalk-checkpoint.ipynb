{
 "cells": [
  {
   "cell_type": "markdown",
   "metadata": {},
   "source": [
    "Things to change:\n",
    "- talk more about what parts of it are good for big data, like viewing the large spreadsheets, viewing the data frames, exploring the data and building the visuals\n",
    "- mention that it's very popular in astronomy\n",
    "- mention that you can use spark in it, including the machine learning\n"
   ]
  },
  {
   "cell_type": "markdown",
   "metadata": {
    "slideshow": {
     "slide_type": "subslide"
    }
   },
   "source": [
    "# Jupyter Lab for Researchers\n",
    "### Colby Witherup Wood\n",
    "September XX, 2019"
   ]
  },
  {
   "cell_type": "markdown",
   "metadata": {
    "slideshow": {
     "slide_type": "slide"
    }
   },
   "source": [
    "## What is Jupyter Lab?"
   ]
  },
  {
   "cell_type": "markdown",
   "metadata": {
    "slideshow": {
     "slide_type": "subslide"
    }
   },
   "source": [
    "What it stands for"
   ]
  },
  {
   "cell_type": "markdown",
   "metadata": {
    "slideshow": {
     "slide_type": "subslide"
    }
   },
   "source": [
    "Why it was made"
   ]
  },
  {
   "cell_type": "markdown",
   "metadata": {
    "slideshow": {
     "slide_type": "subslide"
    }
   },
   "source": [
    "Browser based"
   ]
  },
  {
   "cell_type": "markdown",
   "metadata": {
    "slideshow": {
     "slide_type": "subslide"
    }
   },
   "source": [
    "Why so many researchers already love notebooks:"
   ]
  },
  {
   "cell_type": "markdown",
   "metadata": {},
   "source": [
    " - combines code, markdown, and output"
   ]
  },
  {
   "cell_type": "markdown",
   "metadata": {},
   "source": [
    "- some researchers like that they can explain code in their own words, with full sentences, rather than learning to write succinct comments and doc strings"
   ]
  },
  {
   "cell_type": "markdown",
   "metadata": {},
   "source": [
    "- great for data exploration"
   ]
  },
  {
   "cell_type": "markdown",
   "metadata": {},
   "source": [
    "- great for building code to produce visuals"
   ]
  },
  {
   "cell_type": "markdown",
   "metadata": {},
   "source": [
    "- great for sharing code for: teaching, sharing your thought process with colleagues, blog posts, interactive concepts"
   ]
  },
  {
   "cell_type": "markdown",
   "metadata": {
    "slideshow": {
     "slide_type": "subslide"
    }
   },
   "source": [
    "Notebook vs. Lab"
   ]
  },
  {
   "cell_type": "markdown",
   "metadata": {
    "slideshow": {
     "slide_type": "slide"
    }
   },
   "source": [
    "## Jupyter Lab for Beginning Coders"
   ]
  },
  {
   "cell_type": "markdown",
   "metadata": {},
   "source": [
    "- browser/tab based gives a familiar environment"
   ]
  },
  {
   "cell_type": "markdown",
   "metadata": {},
   "source": [
    "- clean, uncomplicated interface"
   ]
  },
  {
   "cell_type": "markdown",
   "metadata": {},
   "source": [
    "- has Terminal kernels, text editor, console"
   ]
  },
  {
   "cell_type": "markdown",
   "metadata": {},
   "source": [
    "- browser based gives easy access to google"
   ]
  },
  {
   "cell_type": "markdown",
   "metadata": {},
   "source": [
    "- has all color-coding, bracket-completion, tab-completion, etc. of an IDE"
   ]
  },
  {
   "cell_type": "markdown",
   "metadata": {},
   "source": [
    "- included in anaconda"
   ]
  },
  {
   "cell_type": "markdown",
   "metadata": {},
   "source": [
    "### Limitations of Jupyter Lab for beginners"
   ]
  },
  {
   "cell_type": "markdown",
   "metadata": {},
   "source": [
    "- temptation to use notebooks for everything"
   ]
  },
  {
   "cell_type": "markdown",
   "metadata": {},
   "source": [
    "Counterpoint: Is it better for to beginners use notebooks for everything than use the console for everything?"
   ]
  },
  {
   "cell_type": "markdown",
   "metadata": {},
   "source": [
    "## Jupyter Lab for Research"
   ]
  },
  {
   "cell_type": "markdown",
   "metadata": {},
   "source": [
    "- multiple kernels in same environment (list kernels) (link to how to set up an R kernel)"
   ]
  },
  {
   "cell_type": "markdown",
   "metadata": {},
   "source": [
    "- there are millions of public notebooks on github for learning new skills or finding the code you need in your discipline"
   ]
  },
  {
   "cell_type": "markdown",
   "metadata": {},
   "source": [
    "- convert notebooks to html, LaTeX, pdf, slides, executable script, and more"
   ]
  },
  {
   "cell_type": "markdown",
   "metadata": {},
   "source": [
    "- import active webpages and youtube videos into your notebook"
   ]
  },
  {
   "cell_type": "markdown",
   "metadata": {},
   "source": [
    "- view image files inside Jupyter Lab without opening a separate viewer"
   ]
  },
  {
   "cell_type": "markdown",
   "metadata": {},
   "source": [
    "- view .csv files as tables without opening Excel or Sheets (more csv editing functions are coming)"
   ]
  },
  {
   "cell_type": "markdown",
   "metadata": {},
   "source": [
    "- access notebooks and files on a remote server (link on how to do this)"
   ]
  },
  {
   "cell_type": "markdown",
   "metadata": {
    "slideshow": {
     "slide_type": "slide"
    }
   },
   "source": [
    "- notebooks! Create clean explanations of your data, analysis, and results in one (interactive or static) document"
   ]
  },
  {
   "cell_type": "markdown",
   "metadata": {},
   "source": [
    "- extension model means the environment is only as complicated as you want it, updates don't require upgrades, and useful tools are being built all the time (link to current extension list)"
   ]
  },
  {
   "cell_type": "markdown",
   "metadata": {},
   "source": [
    "## Jupyter Lab Extensions for Productivity"
   ]
  },
  {
   "cell_type": "markdown",
   "metadata": {},
   "source": [
    "Google Drive - access your files without transferring them to your computer"
   ]
  },
  {
   "cell_type": "markdown",
   "metadata": {},
   "source": [
    "GitHub - view others' GitHub repos, and open notebooks and files in Jupyter Lab"
   ]
  },
  {
   "cell_type": "markdown",
   "metadata": {},
   "source": [
    "Git - version control gui"
   ]
  },
  {
   "cell_type": "markdown",
   "metadata": {},
   "source": [
    "draw.io - make flowcharts and diagrams"
   ]
  },
  {
   "cell_type": "markdown",
   "metadata": {},
   "source": [
    "Notify - sends a notification to your screen when code stops running"
   ]
  },
  {
   "cell_type": "markdown",
   "metadata": {},
   "source": [
    "Hinterland - autocompletes with every keystroke, like in PyCharm"
   ]
  },
  {
   "cell_type": "markdown",
   "metadata": {},
   "source": [
    "## Jupyter Notebook Extensions to Make Interactive Notebooks"
   ]
  },
  {
   "cell_type": "markdown",
   "metadata": {},
   "source": [
    "#### Jupyter Widgets (like Shiny)"
   ]
  },
  {
   "cell_type": "markdown",
   "metadata": {},
   "source": [
    "- sliders\n",
    "- buttons\n",
    "- text boxes\n",
    "- progress bars\n",
    "- color picker\n",
    "- nbinteract converts notebooks to interactive html pages with embedded JavaScript libraries. Pages can then be hosted on the web (ex. GitHub Pages) (link to instructions)"
   ]
  },
  {
   "cell_type": "markdown",
   "metadata": {},
   "source": [
    "#### Formatting extensions"
   ]
  },
  {
   "cell_type": "markdown",
   "metadata": {},
   "source": [
    "- Table of Contents\n",
    "- Collapsible sections of the notebook\n",
    "- Code-folding\n",
    "- Split cells vertically to view outputs side by side"
   ]
  },
  {
   "cell_type": "markdown",
   "metadata": {},
   "source": [
    "## Limitations of Jupyter Lab"
   ]
  },
  {
   "cell_type": "markdown",
   "metadata": {},
   "source": [
    "- Many tools have been developed specifically for Python, and not other languages"
   ]
  },
  {
   "cell_type": "markdown",
   "metadata": {},
   "source": [
    "- Encourages notebook development rather than software development\n",
    "<br> Counterpoint: makes these tools available for more researchers who aren't going to develop the skills of a software developer or who don't have the funds to hire a software developer"
   ]
  },
  {
   "cell_type": "markdown",
   "metadata": {},
   "source": [
    "- Researchers can lean on notebooks and never learn proper script-writing and code-testing techniques<br>Counterpoint: Jupyter Lab has all the tools to code without notebooks"
   ]
  },
  {
   "cell_type": "markdown",
   "metadata": {},
   "source": [
    "- Unlike scripts, notebooks cannot be combined into computational pipelines<br>Counterpoint: Jupyter Lab has all the tools to code without notebooks"
   ]
  },
  {
   "cell_type": "markdown",
   "metadata": {},
   "source": [
    "- Notebooks don't do well with version control conflicts (link)"
   ]
  },
  {
   "cell_type": "markdown",
   "metadata": {},
   "source": [
    "- Doesn't have the layout options of Shiny"
   ]
  },
  {
   "cell_type": "markdown",
   "metadata": {},
   "source": [
    "- Doesn't have the hosting abilities of Shiny<br>Counterpoint: Other free hosting options are available, like GitHub Pages"
   ]
  },
  {
   "cell_type": "markdown",
   "metadata": {},
   "source": [
    "- Extensions can have some dependencies and be mildly annoying to install."
   ]
  },
  {
   "cell_type": "markdown",
   "metadata": {},
   "source": [
    "## Summary"
   ]
  },
  {
   "cell_type": "markdown",
   "metadata": {},
   "source": [
    "Jupyter Lab brings the well-loved notebooks into a clean, simple IDE that can be expanded with extensions. Perks are the included terminal, ability to code in multiple language consoles in one IDE, and the Jupyter widgets to create interactive notebooks. Negatives include the notebooks don't encourage good coding habits and the interactive notebooks don't yet rival Shiny apps. "
   ]
  },
  {
   "cell_type": "markdown",
   "metadata": {},
   "source": [
    "Jupyter Lab is a good choice for researchers who are just starting to code, especially in Python, as it includes a text editor, terminal, and console. <br><br>Researchers who already love Notebooks, and who will soon be forced to used Jupyter Lab, will have an easy transition, as the design is minimalist. <br><br>More advanced Python coders who conduct research in all disciplines can feel confident that the functionality of Jupyter Lab is going to continue to improve exponentially as new features are added by Jupyter and new extensions are developed by users."
   ]
  }
 ],
 "metadata": {
  "kernelspec": {
   "display_name": "Python 3",
   "language": "python",
   "name": "python3"
  },
  "language_info": {
   "codemirror_mode": {
    "name": "ipython",
    "version": 3
   },
   "file_extension": ".py",
   "mimetype": "text/x-python",
   "name": "python",
   "nbconvert_exporter": "python",
   "pygments_lexer": "ipython3",
   "version": "3.6.8"
  }
 },
 "nbformat": 4,
 "nbformat_minor": 2
}
